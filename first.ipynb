{
  "nbformat": 4,
  "nbformat_minor": 0,
  "metadata": {
    "colab": {
      "provenance": [],
      "authorship_tag": "ABX9TyOHgov+UkCRcfWi2s1MdKno",
      "include_colab_link": true
    },
    "kernelspec": {
      "name": "python3",
      "display_name": "Python 3"
    },
    "language_info": {
      "name": "python"
    }
  },
  "cells": [
    {
      "cell_type": "markdown",
      "metadata": {
        "id": "view-in-github",
        "colab_type": "text"
      },
      "source": [
        "<a href=\"https://colab.research.google.com/github/Tarun02345/AOA-38/blob/main/first.ipynb\" target=\"_parent\"><img src=\"https://colab.research.google.com/assets/colab-badge.svg\" alt=\"Open In Colab\"/></a>"
      ]
    },
    {
      "cell_type": "code",
      "execution_count": null,
      "metadata": {
        "colab": {
          "base_uri": "https://localhost:8080/"
        },
        "id": "Pb3L6FYD_lT_",
        "outputId": "5b857517-14f7-4bd0-c8d8-79c4984c8f28"
      },
      "outputs": [
        {
          "output_type": "stream",
          "name": "stdout",
          "text": [
            "hello world\n"
          ]
        }
      ],
      "source": [
        "print(\"hello world\");"
      ]
    },
    {
      "cell_type": "code",
      "source": [
        "x=5\n",
        "m=6\n",
        "y='9'\n",
        "z='2'\n",
        "print(type(x))\n",
        "print(type(y))\n",
        "print(x+m)"
      ],
      "metadata": {
        "colab": {
          "base_uri": "https://localhost:8080/"
        },
        "id": "PJrvX1F4A0ns",
        "outputId": "e17cfa8e-25f9-4a08-fddc-cc49532004f7"
      },
      "execution_count": null,
      "outputs": [
        {
          "output_type": "stream",
          "name": "stdout",
          "text": [
            "<class 'int'>\n",
            "<class 'str'>\n",
            "11\n"
          ]
        }
      ]
    },
    {
      "cell_type": "code",
      "source": [
        "l1=[\"hi\",0 ,1.2 ,3,[\"ai\",12,\"ds\"]]\n",
        "l2=l1[1]\n",
        "l3=l1[4][2]\n",
        "print(l2)\n",
        "print(l3)\n"
      ],
      "metadata": {
        "colab": {
          "base_uri": "https://localhost:8080/"
        },
        "id": "sEMXwMgUBuha",
        "outputId": "cbd7009c-0a45-403f-99a7-fa046a8cedc2"
      },
      "execution_count": null,
      "outputs": [
        {
          "output_type": "stream",
          "name": "stdout",
          "text": [
            "0\n",
            "ds\n"
          ]
        }
      ]
    },
    {
      "cell_type": "code",
      "source": [
        "num =[]\n",
        "num.append(21)\n",
        "num.append(12.4)\n",
        "num.append(\"world\")\n",
        "\n",
        "print(num)"
      ],
      "metadata": {
        "colab": {
          "base_uri": "https://localhost:8080/"
        },
        "id": "FW8seCzzFIfR",
        "outputId": "b4a1bc5c-ba98-4d3e-861d-ac1bcfc25e22"
      },
      "execution_count": null,
      "outputs": [
        {
          "output_type": "stream",
          "name": "stdout",
          "text": [
            "[21, 12.4, 'world']\n"
          ]
        }
      ]
    },
    {
      "cell_type": "code",
      "source": [
        "import numpy as np\n",
        "arr = np.array( [[1,2,3],[4,5,6]])\n",
        "\n",
        "print(\"data type of arr: \",arr.dtype)\n",
        "\n",
        "\n",
        "print(\"size of arr: \",arr.size)\n",
        "\n",
        "\n",
        "\n",
        "\n",
        "\n"
      ],
      "metadata": {
        "colab": {
          "base_uri": "https://localhost:8080/"
        },
        "id": "Vxq0_ePGHlKK",
        "outputId": "3748f42a-bf07-4b97-e1e9-b9d508e55c5a"
      },
      "execution_count": null,
      "outputs": [
        {
          "output_type": "stream",
          "name": "stdout",
          "text": [
            "data type of arr:  int64\n",
            "num of dimensions \n",
            "size of arr:  6\n",
            "data type of arr:  int64\n"
          ]
        }
      ]
    },
    {
      "cell_type": "code",
      "source": [],
      "metadata": {
        "id": "9KjErcdJLQtS"
      },
      "execution_count": null,
      "outputs": []
    }
  ]
}